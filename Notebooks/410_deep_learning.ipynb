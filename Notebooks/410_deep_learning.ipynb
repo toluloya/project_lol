{
 "cells": [
  {
   "cell_type": "code",
   "execution_count": null,
   "id": "d492655f",
   "metadata": {},
   "outputs": [],
   "source": [
    "import pandas as pd\n",
    "import matplotlib.pyplot as plt\n",
    "import seaborn as sns\n",
    "import numpy as np\n",
    "from sklearn.model_selection import train_test_split\n",
    "from sklearn.metrics import accuracy_score, f1_score\n",
    "from sklearn.preprocessing import StandardScaler\n",
    "from tensorflow.keras.utils import normalize\n",
    "import tensorflow as tf\n",
    "from keras.models import Sequential\n",
    "from keras.layers import Dense, Dropout"
   ]
  },
  {
   "cell_type": "code",
   "execution_count": null,
   "id": "bc7dfccb",
   "metadata": {},
   "outputs": [],
   "source": [
    "pip install tensorflow"
   ]
  },
  {
   "cell_type": "code",
   "execution_count": null,
   "id": "42a76745",
   "metadata": {},
   "outputs": [],
   "source": [
    "original_data = pd.read_csv(\"C:\\\\Users\\\\Admin\\\\Desktop\\\\upwork_jobs\\\\lol_project\\\\data\\\\high_diamond_ranked_10min.csv\")"
   ]
  },
  {
   "cell_type": "code",
   "execution_count": null,
   "id": "d683c1f8",
   "metadata": {},
   "outputs": [],
   "source": [
    "required_columns = [\n",
    "                    ## ID and Predictor Variable\n",
    "                    'blueWins',\n",
    "                    \n",
    "                    ## Statistics for Blue Teams\n",
    "                    'blueWardsPlaced', 'blueWardsDestroyed','blueKills', 'blueDeaths',\n",
    "                    'blueAssists','blueEliteMonsters', 'blueDragons', 'blueHeralds',\n",
    "                    'blueTowersDestroyed', 'blueAvgLevel','blueCSPerMin', 'blueGoldPerMin', \n",
    "                    \n",
    "                    ## Shared Statisitics\n",
    "                    'blueGoldDiff', 'blueExperienceDiff','blueFirstBlood',\n",
    "                    \n",
    "                    ## Statistics for Red Teams\n",
    "                    'redWardsPlaced', 'redWardsDestroyed','redKills', 'redDeaths',\n",
    "                    'redAssists','redEliteMonsters', 'redDragons','redHeralds',\n",
    "                    'redTowersDestroyed', 'redAvgLevel','redCSPerMin','redGoldPerMin'\n",
    "                    ]"
   ]
  },
  {
   "cell_type": "code",
   "execution_count": null,
   "id": "6bb868d7",
   "metadata": {},
   "outputs": [],
   "source": [
    "modelling_df = original_data[required_columns]"
   ]
  },
  {
   "cell_type": "code",
   "execution_count": null,
   "id": "6cd155f3",
   "metadata": {},
   "outputs": [],
   "source": [
    "modelling_df.head()"
   ]
  },
  {
   "cell_type": "code",
   "execution_count": null,
   "id": "50eb1913",
   "metadata": {},
   "outputs": [],
   "source": [
    "## Logistic Modelling\n",
    "X = modelling_df[required_columns[1:]].values\n",
    "Y = modelling_df['blueWins'].values"
   ]
  },
  {
   "cell_type": "code",
   "execution_count": null,
   "id": "f6a51e72",
   "metadata": {},
   "outputs": [],
   "source": [
    "# Split dataset to train and test split\n",
    "x_train, x_test, y_train, y_test = train_test_split(X, Y, train_size=0.2, random_state=42)"
   ]
  },
  {
   "cell_type": "code",
   "execution_count": null,
   "id": "adab7db3",
   "metadata": {},
   "outputs": [],
   "source": [
    "# Normalize and change data type to floate32\n",
    "x_train = normalize(x_train, axis=1).astype('float32')\n",
    "x_test = normalize(x_test, axis=1).astype('float32')"
   ]
  },
  {
   "cell_type": "code",
   "execution_count": null,
   "id": "3b782d4e",
   "metadata": {},
   "outputs": [],
   "source": [
    "# Baseline model for the neural network. We choose a hidden layer of 10 neurons. The lesser number of neurons helps to eliminate the redundancies in the data and select the more important features.\n",
    "def create_baseline():\n",
    "    # create model\n",
    "    model = Sequential([\n",
    "        Dense(64, input_shape=(x_train.shape[1],), activation='relu'),\n",
    "        Dense(32, activation='relu'),\n",
    "#         Dropout(0.25),\n",
    "        Dense(1)      \n",
    "    ])\n",
    "    \n",
    "    return model"
   ]
  },
  {
   "cell_type": "code",
   "execution_count": null,
   "id": "a7b85ccb",
   "metadata": {},
   "outputs": [],
   "source": [
    "# Compile model\n",
    "base_model = create_baseline()\n",
    "\n",
    "base_model.compile(optimizer=tf.keras.optimizers.Adam(learning_rate=0.01), \n",
    "                   loss=tf.keras.losses.BinaryCrossentropy(from_logits=True), metrics=['accuracy'])"
   ]
  },
  {
   "cell_type": "code",
   "execution_count": null,
   "id": "0445eb37",
   "metadata": {},
   "outputs": [],
   "source": [
    "epochs = 20\n",
    "# Fit model\n",
    "history = base_model.fit(x_train, y_train,\n",
    "               validation_data=(x_test, y_test), batch_size=8, epochs = epochs )"
   ]
  },
  {
   "cell_type": "code",
   "execution_count": null,
   "id": "29cbe785",
   "metadata": {},
   "outputs": [],
   "source": [
    "pred = base_model.predict(x_test)\n",
    "score = tf.nn.sigmoid(pred)\n",
    "\n",
    "# convert predictions from probabilty to integers\n",
    "predictions = np.where(pred < 0.5, 0, 1) # use 0.5 as threshold, could change"
   ]
  },
  {
   "cell_type": "code",
   "execution_count": null,
   "id": "9cbc7b0a",
   "metadata": {},
   "outputs": [],
   "source": [
    "#test\n",
    "predictions[0], y_test[0]"
   ]
  },
  {
   "cell_type": "code",
   "execution_count": null,
   "id": "eaab3f22",
   "metadata": {},
   "outputs": [],
   "source": [
    "loss = history.history['loss']\n",
    "val_loss = history.history['val_loss']\n",
    "\n",
    "plt.plot(loss, label='Training loss')\n",
    "plt.plot(val_loss, label='Validation loss')\n",
    "plt.xlabel('Epochs')\n",
    "plt.legend(loc='upper right')\n",
    "plt.grid()\n",
    "plt.show()"
   ]
  },
  {
   "cell_type": "code",
   "execution_count": null,
   "id": "ff048d02",
   "metadata": {},
   "outputs": [],
   "source": [
    "accuracy = accuracy_score(y_test, predictions)\n",
    "f1 = f1_score(y_test, predictions)\n",
    "\n",
    "print(f\"Model Accuracy: {round(accuracy, 2)}\\nModel F1 Score: {round(f1,2)}\")"
   ]
  }
 ],
 "metadata": {
  "kernelspec": {
   "display_name": "Python 3 (ipykernel)",
   "language": "python",
   "name": "python3"
  },
  "language_info": {
   "codemirror_mode": {
    "name": "ipython",
    "version": 3
   },
   "file_extension": ".py",
   "mimetype": "text/x-python",
   "name": "python",
   "nbconvert_exporter": "python",
   "pygments_lexer": "ipython3",
   "version": "3.9.12"
  }
 },
 "nbformat": 4,
 "nbformat_minor": 5
}
