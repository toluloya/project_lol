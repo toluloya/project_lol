{
 "cells": [
  {
   "cell_type": "code",
   "execution_count": 1,
   "id": "d492655f",
   "metadata": {},
   "outputs": [],
   "source": [
    "import pandas as pd\n",
    "import matplotlib.pyplot as plt\n",
    "import seaborn as sns\n",
    "import numpy as np\n",
    "from sklearn.model_selection import train_test_split\n",
    "from sklearn.metrics import accuracy_score, f1_score\n",
    "from sklearn.preprocessing import StandardScaler\n",
    "from tensorflow.keras.utils import normalize\n",
    "import tensorflow as tf\n",
    "from keras.models import Sequential\n",
    "from keras.layers import Dense, Dropout"
   ]
  },
  {
   "cell_type": "code",
   "execution_count": 2,
   "id": "42a76745",
   "metadata": {},
   "outputs": [],
   "source": [
    "original_data = pd.read_csv(\"C:\\\\Users\\\\Admin\\\\Desktop\\\\upwork_jobs\\\\lol_project\\\\data\\\\high_diamond_ranked_10min.csv\")"
   ]
  },
  {
   "cell_type": "code",
   "execution_count": 3,
   "id": "d683c1f8",
   "metadata": {},
   "outputs": [],
   "source": [
    "required_columns = [\n",
    "                    ## ID and Predictor Variable\n",
    "                    'blueWins',\n",
    "                    \n",
    "                    ## Statistics for Blue Teams\n",
    "                    'blueWardsPlaced', 'blueWardsDestroyed','blueKills', 'blueDeaths',\n",
    "                    'blueAssists','blueEliteMonsters', 'blueDragons', 'blueHeralds',\n",
    "                    'blueTowersDestroyed', 'blueAvgLevel','blueCSPerMin', 'blueGoldPerMin', \n",
    "                    \n",
    "                    ## Shared Statisitics\n",
    "                    'blueGoldDiff', 'blueExperienceDiff','blueFirstBlood',\n",
    "                    \n",
    "                    ## Statistics for Red Teams\n",
    "                    'redWardsPlaced', 'redWardsDestroyed','redKills', 'redDeaths',\n",
    "                    'redAssists','redEliteMonsters', 'redDragons','redHeralds',\n",
    "                    'redTowersDestroyed', 'redAvgLevel','redCSPerMin','redGoldPerMin'\n",
    "                    ]"
   ]
  },
  {
   "cell_type": "code",
   "execution_count": 4,
   "id": "6bb868d7",
   "metadata": {},
   "outputs": [],
   "source": [
    "modelling_df = original_data[required_columns]"
   ]
  },
  {
   "cell_type": "code",
   "execution_count": 5,
   "id": "6cd155f3",
   "metadata": {},
   "outputs": [
    {
     "data": {
      "text/html": [
       "<div>\n",
       "<style scoped>\n",
       "    .dataframe tbody tr th:only-of-type {\n",
       "        vertical-align: middle;\n",
       "    }\n",
       "\n",
       "    .dataframe tbody tr th {\n",
       "        vertical-align: top;\n",
       "    }\n",
       "\n",
       "    .dataframe thead th {\n",
       "        text-align: right;\n",
       "    }\n",
       "</style>\n",
       "<table border=\"1\" class=\"dataframe\">\n",
       "  <thead>\n",
       "    <tr style=\"text-align: right;\">\n",
       "      <th></th>\n",
       "      <th>blueWins</th>\n",
       "      <th>blueWardsPlaced</th>\n",
       "      <th>blueWardsDestroyed</th>\n",
       "      <th>blueKills</th>\n",
       "      <th>blueDeaths</th>\n",
       "      <th>blueAssists</th>\n",
       "      <th>blueEliteMonsters</th>\n",
       "      <th>blueDragons</th>\n",
       "      <th>blueHeralds</th>\n",
       "      <th>blueTowersDestroyed</th>\n",
       "      <th>...</th>\n",
       "      <th>redKills</th>\n",
       "      <th>redDeaths</th>\n",
       "      <th>redAssists</th>\n",
       "      <th>redEliteMonsters</th>\n",
       "      <th>redDragons</th>\n",
       "      <th>redHeralds</th>\n",
       "      <th>redTowersDestroyed</th>\n",
       "      <th>redAvgLevel</th>\n",
       "      <th>redCSPerMin</th>\n",
       "      <th>redGoldPerMin</th>\n",
       "    </tr>\n",
       "  </thead>\n",
       "  <tbody>\n",
       "    <tr>\n",
       "      <th>0</th>\n",
       "      <td>0</td>\n",
       "      <td>28</td>\n",
       "      <td>2</td>\n",
       "      <td>9</td>\n",
       "      <td>6</td>\n",
       "      <td>11</td>\n",
       "      <td>0</td>\n",
       "      <td>0</td>\n",
       "      <td>0</td>\n",
       "      <td>0</td>\n",
       "      <td>...</td>\n",
       "      <td>6</td>\n",
       "      <td>9</td>\n",
       "      <td>8</td>\n",
       "      <td>0</td>\n",
       "      <td>0</td>\n",
       "      <td>0</td>\n",
       "      <td>0</td>\n",
       "      <td>6.8</td>\n",
       "      <td>19.7</td>\n",
       "      <td>1656.7</td>\n",
       "    </tr>\n",
       "    <tr>\n",
       "      <th>1</th>\n",
       "      <td>0</td>\n",
       "      <td>12</td>\n",
       "      <td>1</td>\n",
       "      <td>5</td>\n",
       "      <td>5</td>\n",
       "      <td>5</td>\n",
       "      <td>0</td>\n",
       "      <td>0</td>\n",
       "      <td>0</td>\n",
       "      <td>0</td>\n",
       "      <td>...</td>\n",
       "      <td>5</td>\n",
       "      <td>5</td>\n",
       "      <td>2</td>\n",
       "      <td>2</td>\n",
       "      <td>1</td>\n",
       "      <td>1</td>\n",
       "      <td>1</td>\n",
       "      <td>6.8</td>\n",
       "      <td>24.0</td>\n",
       "      <td>1762.0</td>\n",
       "    </tr>\n",
       "    <tr>\n",
       "      <th>2</th>\n",
       "      <td>0</td>\n",
       "      <td>15</td>\n",
       "      <td>0</td>\n",
       "      <td>7</td>\n",
       "      <td>11</td>\n",
       "      <td>4</td>\n",
       "      <td>1</td>\n",
       "      <td>1</td>\n",
       "      <td>0</td>\n",
       "      <td>0</td>\n",
       "      <td>...</td>\n",
       "      <td>11</td>\n",
       "      <td>7</td>\n",
       "      <td>14</td>\n",
       "      <td>0</td>\n",
       "      <td>0</td>\n",
       "      <td>0</td>\n",
       "      <td>0</td>\n",
       "      <td>6.8</td>\n",
       "      <td>20.3</td>\n",
       "      <td>1728.5</td>\n",
       "    </tr>\n",
       "    <tr>\n",
       "      <th>3</th>\n",
       "      <td>0</td>\n",
       "      <td>43</td>\n",
       "      <td>1</td>\n",
       "      <td>4</td>\n",
       "      <td>5</td>\n",
       "      <td>5</td>\n",
       "      <td>1</td>\n",
       "      <td>0</td>\n",
       "      <td>1</td>\n",
       "      <td>0</td>\n",
       "      <td>...</td>\n",
       "      <td>5</td>\n",
       "      <td>4</td>\n",
       "      <td>10</td>\n",
       "      <td>0</td>\n",
       "      <td>0</td>\n",
       "      <td>0</td>\n",
       "      <td>0</td>\n",
       "      <td>7.0</td>\n",
       "      <td>23.5</td>\n",
       "      <td>1647.8</td>\n",
       "    </tr>\n",
       "    <tr>\n",
       "      <th>4</th>\n",
       "      <td>0</td>\n",
       "      <td>75</td>\n",
       "      <td>4</td>\n",
       "      <td>6</td>\n",
       "      <td>6</td>\n",
       "      <td>6</td>\n",
       "      <td>0</td>\n",
       "      <td>0</td>\n",
       "      <td>0</td>\n",
       "      <td>0</td>\n",
       "      <td>...</td>\n",
       "      <td>6</td>\n",
       "      <td>6</td>\n",
       "      <td>7</td>\n",
       "      <td>1</td>\n",
       "      <td>1</td>\n",
       "      <td>0</td>\n",
       "      <td>0</td>\n",
       "      <td>7.0</td>\n",
       "      <td>22.5</td>\n",
       "      <td>1740.4</td>\n",
       "    </tr>\n",
       "  </tbody>\n",
       "</table>\n",
       "<p>5 rows × 28 columns</p>\n",
       "</div>"
      ],
      "text/plain": [
       "   blueWins  blueWardsPlaced  blueWardsDestroyed  blueKills  blueDeaths  \\\n",
       "0         0               28                   2          9           6   \n",
       "1         0               12                   1          5           5   \n",
       "2         0               15                   0          7          11   \n",
       "3         0               43                   1          4           5   \n",
       "4         0               75                   4          6           6   \n",
       "\n",
       "   blueAssists  blueEliteMonsters  blueDragons  blueHeralds  \\\n",
       "0           11                  0            0            0   \n",
       "1            5                  0            0            0   \n",
       "2            4                  1            1            0   \n",
       "3            5                  1            0            1   \n",
       "4            6                  0            0            0   \n",
       "\n",
       "   blueTowersDestroyed  ...  redKills  redDeaths  redAssists  \\\n",
       "0                    0  ...         6          9           8   \n",
       "1                    0  ...         5          5           2   \n",
       "2                    0  ...        11          7          14   \n",
       "3                    0  ...         5          4          10   \n",
       "4                    0  ...         6          6           7   \n",
       "\n",
       "   redEliteMonsters  redDragons  redHeralds  redTowersDestroyed  redAvgLevel  \\\n",
       "0                 0           0           0                   0          6.8   \n",
       "1                 2           1           1                   1          6.8   \n",
       "2                 0           0           0                   0          6.8   \n",
       "3                 0           0           0                   0          7.0   \n",
       "4                 1           1           0                   0          7.0   \n",
       "\n",
       "   redCSPerMin  redGoldPerMin  \n",
       "0         19.7         1656.7  \n",
       "1         24.0         1762.0  \n",
       "2         20.3         1728.5  \n",
       "3         23.5         1647.8  \n",
       "4         22.5         1740.4  \n",
       "\n",
       "[5 rows x 28 columns]"
      ]
     },
     "execution_count": 5,
     "metadata": {},
     "output_type": "execute_result"
    }
   ],
   "source": [
    "modelling_df.head()"
   ]
  },
  {
   "cell_type": "code",
   "execution_count": 6,
   "id": "50eb1913",
   "metadata": {},
   "outputs": [],
   "source": [
    "## Logistic Modelling\n",
    "X = modelling_df[required_columns[1:]].values\n",
    "Y = modelling_df['blueWins'].values"
   ]
  },
  {
   "cell_type": "code",
   "execution_count": 7,
   "id": "f6a51e72",
   "metadata": {},
   "outputs": [],
   "source": [
    "# Split dataset to train and test split\n",
    "x_train, x_test, y_train, y_test = train_test_split(X, Y, train_size=0.2, random_state=42)"
   ]
  },
  {
   "cell_type": "code",
   "execution_count": 8,
   "id": "adab7db3",
   "metadata": {},
   "outputs": [],
   "source": [
    "# Normalize and change data type to floate32\n",
    "x_train = normalize(x_train, axis=1).astype('float32')\n",
    "x_test = normalize(x_test, axis=1).astype('float32')"
   ]
  },
  {
   "cell_type": "code",
   "execution_count": 9,
   "id": "3b782d4e",
   "metadata": {},
   "outputs": [],
   "source": [
    "# Baseline model for the neural network. We choose a hidden layer of 10 neurons. The lesser number of neurons helps to eliminate the redundancies in the data and select the more important features.\n",
    "def create_baseline():\n",
    "    # create model\n",
    "    model = Sequential([\n",
    "        Dense(64, input_shape=(x_train.shape[1],), activation='relu'),\n",
    "        Dense(32, activation='relu'),\n",
    "#         Dropout(0.25),\n",
    "        Dense(1)      \n",
    "    ])\n",
    "    \n",
    "    return model"
   ]
  },
  {
   "cell_type": "code",
   "execution_count": 10,
   "id": "a7b85ccb",
   "metadata": {},
   "outputs": [],
   "source": [
    "# Compile model\n",
    "base_model = create_baseline()\n",
    "\n",
    "base_model.compile(optimizer=tf.keras.optimizers.Adam(learning_rate=0.01), \n",
    "                   loss=tf.keras.losses.BinaryCrossentropy(from_logits=True), metrics=['accuracy'])"
   ]
  },
  {
   "cell_type": "code",
   "execution_count": 11,
   "id": "0445eb37",
   "metadata": {},
   "outputs": [
    {
     "name": "stdout",
     "output_type": "stream",
     "text": [
      "Epoch 1/20\n",
      "247/247 [==============================] - 1s 5ms/step - loss: 0.5661 - accuracy: 0.7200 - val_loss: 0.5457 - val_accuracy: 0.7204\n",
      "Epoch 2/20\n",
      "247/247 [==============================] - 1s 4ms/step - loss: 0.5525 - accuracy: 0.7094 - val_loss: 0.5569 - val_accuracy: 0.7163\n",
      "Epoch 3/20\n",
      "247/247 [==============================] - 1s 4ms/step - loss: 0.5465 - accuracy: 0.7159 - val_loss: 0.5399 - val_accuracy: 0.7098\n",
      "Epoch 4/20\n",
      "247/247 [==============================] - 1s 4ms/step - loss: 0.5416 - accuracy: 0.7139 - val_loss: 0.5508 - val_accuracy: 0.6976\n",
      "Epoch 5/20\n",
      "247/247 [==============================] - 1s 3ms/step - loss: 0.5458 - accuracy: 0.7089 - val_loss: 0.5392 - val_accuracy: 0.7064\n",
      "Epoch 6/20\n",
      "247/247 [==============================] - 1s 3ms/step - loss: 0.5435 - accuracy: 0.7185 - val_loss: 0.5499 - val_accuracy: 0.7112\n",
      "Epoch 7/20\n",
      "247/247 [==============================] - 1s 3ms/step - loss: 0.5405 - accuracy: 0.7139 - val_loss: 0.5395 - val_accuracy: 0.6999\n",
      "Epoch 8/20\n",
      "247/247 [==============================] - 1s 3ms/step - loss: 0.5388 - accuracy: 0.7129 - val_loss: 0.5441 - val_accuracy: 0.6986\n",
      "Epoch 9/20\n",
      "247/247 [==============================] - 1s 3ms/step - loss: 0.5411 - accuracy: 0.7144 - val_loss: 0.5438 - val_accuracy: 0.6857\n",
      "Epoch 10/20\n",
      "247/247 [==============================] - 1s 4ms/step - loss: 0.5400 - accuracy: 0.7068 - val_loss: 0.5427 - val_accuracy: 0.6880\n",
      "Epoch 11/20\n",
      "247/247 [==============================] - 1s 3ms/step - loss: 0.5413 - accuracy: 0.7104 - val_loss: 0.5404 - val_accuracy: 0.7098\n",
      "Epoch 12/20\n",
      "247/247 [==============================] - 1s 3ms/step - loss: 0.5358 - accuracy: 0.7165 - val_loss: 0.5382 - val_accuracy: 0.6988\n",
      "Epoch 13/20\n",
      "247/247 [==============================] - 1s 3ms/step - loss: 0.5357 - accuracy: 0.7114 - val_loss: 0.5398 - val_accuracy: 0.7104\n",
      "Epoch 14/20\n",
      "247/247 [==============================] - 1s 3ms/step - loss: 0.5404 - accuracy: 0.7159 - val_loss: 0.5406 - val_accuracy: 0.7058\n",
      "Epoch 15/20\n",
      "247/247 [==============================] - 1s 3ms/step - loss: 0.5378 - accuracy: 0.7220 - val_loss: 0.5408 - val_accuracy: 0.6929\n",
      "Epoch 16/20\n",
      "247/247 [==============================] - 1s 3ms/step - loss: 0.5379 - accuracy: 0.7094 - val_loss: 0.5452 - val_accuracy: 0.6914\n",
      "Epoch 17/20\n",
      "247/247 [==============================] - 1s 4ms/step - loss: 0.5376 - accuracy: 0.7220 - val_loss: 0.5428 - val_accuracy: 0.7117\n",
      "Epoch 18/20\n",
      "247/247 [==============================] - 1s 3ms/step - loss: 0.5383 - accuracy: 0.7119 - val_loss: 0.5379 - val_accuracy: 0.6979\n",
      "Epoch 19/20\n",
      "247/247 [==============================] - 1s 3ms/step - loss: 0.5347 - accuracy: 0.7134 - val_loss: 0.5462 - val_accuracy: 0.7165\n",
      "Epoch 20/20\n",
      "247/247 [==============================] - 1s 3ms/step - loss: 0.5373 - accuracy: 0.7180 - val_loss: 0.5530 - val_accuracy: 0.7031\n"
     ]
    }
   ],
   "source": [
    "epochs = 20\n",
    "# Fit model\n",
    "history = base_model.fit(x_train, y_train,\n",
    "               validation_data=(x_test, y_test), batch_size=8, epochs = epochs )"
   ]
  },
  {
   "cell_type": "code",
   "execution_count": 12,
   "id": "29cbe785",
   "metadata": {},
   "outputs": [],
   "source": [
    "pred = base_model.predict(x_test)\n",
    "score = tf.nn.sigmoid(pred)\n",
    "\n",
    "# convert predictions from probabilty to integers\n",
    "predictions = np.where(pred < 0.5, 0, 1) # use 0.5 as threshold, could change"
   ]
  },
  {
   "cell_type": "code",
   "execution_count": 13,
   "id": "9cbc7b0a",
   "metadata": {},
   "outputs": [
    {
     "data": {
      "text/plain": [
       "(array([0]), 0)"
      ]
     },
     "execution_count": 13,
     "metadata": {},
     "output_type": "execute_result"
    }
   ],
   "source": [
    "#test\n",
    "predictions[0], y_test[0]"
   ]
  },
  {
   "cell_type": "code",
   "execution_count": 14,
   "id": "eaab3f22",
   "metadata": {},
   "outputs": [
    {
     "data": {
      "image/png": "[encoded data removed]",
      "text/plain": [
       "<Figure size 432x288 with 1 Axes>"
      ]
     },
     "metadata": {
      "needs_background": "light"
     },
     "output_type": "display_data"
    }
   ],
   "source": [
    "loss = history.history['loss']\n",
    "val_loss = history.history['val_loss']\n",
    "\n",
    "plt.plot(loss, label='Training loss')\n",
    "plt.plot(val_loss, label='Validation loss')\n",
    "plt.xlabel('Epochs')\n",
    "plt.legend(loc='upper right')\n",
    "plt.grid()\n",
    "plt.show()"
   ]
  },
  {
   "cell_type": "code",
   "execution_count": 16,
   "id": "ff048d02",
   "metadata": {},
   "outputs": [
    {
     "name": "stdout",
     "output_type": "stream",
     "text": [
      "Model Accuracy: 0.7\n",
      "Model F1 Score: 0.65\n"
     ]
    }
   ],
   "source": [
    "accuracy = accuracy_score(y_test, predictions)\n",
    "f1 = f1_score(y_test, predictions)\n",
    "\n",
    "print(f\"Model Accuracy: {round(accuracy, 2)}\\nModel F1 Score: {round(f1,2)}\")"
   ]
  }
 ],
 "metadata": {
  "kernelspec": {
   "display_name": "Python 3 (ipykernel)",
   "language": "python",
   "name": "python3"
  },
  "language_info": {
   "codemirror_mode": {
    "name": "ipython",
    "version": 3
   },
   "file_extension": ".py",
   "mimetype": "text/x-python",
   "name": "python",
   "nbconvert_exporter": "python",
   "pygments_lexer": "ipython3",
   "version": "3.7.11"
  }
 },
 "nbformat": 4,
 "nbformat_minor": 5
}
