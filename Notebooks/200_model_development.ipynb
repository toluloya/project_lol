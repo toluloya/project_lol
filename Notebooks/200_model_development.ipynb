{
 "cells": [
  {
   "cell_type": "code",
   "execution_count": 1,
   "metadata": {
    "id": "pJDWfANip0hE"
   },
   "outputs": [],
   "source": [
    "import numpy as np\n",
    "import pandas as pd\n",
    "import seaborn as sns\n",
    "import matplotlib.pyplot as plt\n",
    "%matplotlib inline\n",
    "\n",
    "from sklearn.pipeline import Pipeline\n",
    "from sklearn.model_selection import train_test_split\n",
    "from sklearn.model_selection import cross_validate\n",
    "from sklearn.metrics import confusion_matrix,classification_report,accuracy_score \n",
    "from sklearn.preprocessing import StandardScaler\n",
    "\n",
    "from sklearn.linear_model import LogisticRegression\n",
    "from sklearn.svm import SVC\n",
    "from sklearn.neighbors import KNeighborsClassifier\n",
    "from sklearn.tree import DecisionTreeClassifier\n",
    "from sklearn.ensemble import RandomForestClassifier, GradientBoostingClassifier"
   ]
  },
  {
   "cell_type": "code",
   "execution_count": 2,
   "metadata": {
    "id": "pgpql7UdqPrC"
   },
   "outputs": [],
   "source": [
    "original_data = pd.read_csv(\"C:\\\\Users\\\\Admin\\\\Desktop\\\\upwork_jobs\\\\lol_project\\\\data\\\\high_diamond_ranked_10min.csv\")"
   ]
  },
  {
   "cell_type": "code",
   "execution_count": 3,
   "metadata": {
    "colab": {
     "base_uri": "https://localhost:8080/"
    },
    "id": "2FKDRX7oqYmy",
    "outputId": "946fa0e5-dd07-4785-8c29-c060ceadbc07"
   },
   "outputs": [
    {
     "data": {
      "text/plain": [
       "Index(['gameId', 'blueWins', 'blueWardsPlaced', 'blueWardsDestroyed',\n",
       "       'blueFirstBlood', 'blueKills', 'blueDeaths', 'blueAssists',\n",
       "       'blueEliteMonsters', 'blueDragons', 'blueHeralds',\n",
       "       'blueTowersDestroyed', 'blueTotalGold', 'blueAvgLevel',\n",
       "       'blueTotalExperience', 'blueTotalMinionsKilled',\n",
       "       'blueTotalJungleMinionsKilled', 'blueGoldDiff', 'blueExperienceDiff',\n",
       "       'blueCSPerMin', 'blueGoldPerMin', 'redWardsPlaced', 'redWardsDestroyed',\n",
       "       'redFirstBlood', 'redKills', 'redDeaths', 'redAssists',\n",
       "       'redEliteMonsters', 'redDragons', 'redHeralds', 'redTowersDestroyed',\n",
       "       'redTotalGold', 'redAvgLevel', 'redTotalExperience',\n",
       "       'redTotalMinionsKilled', 'redTotalJungleMinionsKilled', 'redGoldDiff',\n",
       "       'redExperienceDiff', 'redCSPerMin', 'redGoldPerMin'],\n",
       "      dtype='object')"
      ]
     },
     "execution_count": 3,
     "metadata": {},
     "output_type": "execute_result"
    }
   ],
   "source": [
    "original_data.columns"
   ]
  },
  {
   "cell_type": "code",
   "execution_count": 4,
   "metadata": {
    "id": "EFQBP27PsQCq"
   },
   "outputs": [],
   "source": [
    "required_columns = [\n",
    "                    ## ID and Predictor Variable\n",
    "                    'blueWins',\n",
    "                    \n",
    "                    ## Statistics for Blue Teams\n",
    "                    'blueWardsPlaced', 'blueWardsDestroyed','blueKills', 'blueDeaths',\n",
    "                    'blueAssists','blueEliteMonsters', 'blueDragons', 'blueHeralds',\n",
    "                    'blueTowersDestroyed', 'blueAvgLevel','blueCSPerMin', 'blueGoldPerMin', \n",
    "                    \n",
    "                    ## Shared Statisitics\n",
    "                    'blueGoldDiff', 'blueExperienceDiff','blueFirstBlood',\n",
    "                    \n",
    "                    ## Statistics for Red Teams\n",
    "                    'redWardsPlaced', 'redWardsDestroyed','redKills', 'redDeaths',\n",
    "                    'redAssists','redEliteMonsters', 'redDragons','redHeralds',\n",
    "                    'redTowersDestroyed', 'redAvgLevel','redCSPerMin','redGoldPerMin'\n",
    "                    ]"
   ]
  },
  {
   "cell_type": "code",
   "execution_count": 5,
   "metadata": {
    "id": "Y2VgIN4cu0Ek"
   },
   "outputs": [],
   "source": [
    "modelling_df = original_data[required_columns]"
   ]
  },
  {
   "cell_type": "code",
   "execution_count": 6,
   "metadata": {
    "colab": {
     "base_uri": "https://localhost:8080/",
     "height": 300
    },
    "id": "CfU3p4U7yz8s",
    "outputId": "6c952f01-6671-4575-b583-0bcce694f4a3"
   },
   "outputs": [
    {
     "data": {
      "text/html": [
       "<div>\n",
       "<style scoped>\n",
       "    .dataframe tbody tr th:only-of-type {\n",
       "        vertical-align: middle;\n",
       "    }\n",
       "\n",
       "    .dataframe tbody tr th {\n",
       "        vertical-align: top;\n",
       "    }\n",
       "\n",
       "    .dataframe thead th {\n",
       "        text-align: right;\n",
       "    }\n",
       "</style>\n",
       "<table border=\"1\" class=\"dataframe\">\n",
       "  <thead>\n",
       "    <tr style=\"text-align: right;\">\n",
       "      <th></th>\n",
       "      <th>blueWins</th>\n",
       "      <th>blueWardsPlaced</th>\n",
       "      <th>blueWardsDestroyed</th>\n",
       "      <th>blueKills</th>\n",
       "      <th>blueDeaths</th>\n",
       "      <th>blueAssists</th>\n",
       "      <th>blueEliteMonsters</th>\n",
       "      <th>blueDragons</th>\n",
       "      <th>blueHeralds</th>\n",
       "      <th>blueTowersDestroyed</th>\n",
       "      <th>...</th>\n",
       "      <th>redKills</th>\n",
       "      <th>redDeaths</th>\n",
       "      <th>redAssists</th>\n",
       "      <th>redEliteMonsters</th>\n",
       "      <th>redDragons</th>\n",
       "      <th>redHeralds</th>\n",
       "      <th>redTowersDestroyed</th>\n",
       "      <th>redAvgLevel</th>\n",
       "      <th>redCSPerMin</th>\n",
       "      <th>redGoldPerMin</th>\n",
       "    </tr>\n",
       "  </thead>\n",
       "  <tbody>\n",
       "    <tr>\n",
       "      <th>0</th>\n",
       "      <td>0</td>\n",
       "      <td>28</td>\n",
       "      <td>2</td>\n",
       "      <td>9</td>\n",
       "      <td>6</td>\n",
       "      <td>11</td>\n",
       "      <td>0</td>\n",
       "      <td>0</td>\n",
       "      <td>0</td>\n",
       "      <td>0</td>\n",
       "      <td>...</td>\n",
       "      <td>6</td>\n",
       "      <td>9</td>\n",
       "      <td>8</td>\n",
       "      <td>0</td>\n",
       "      <td>0</td>\n",
       "      <td>0</td>\n",
       "      <td>0</td>\n",
       "      <td>6.8</td>\n",
       "      <td>19.7</td>\n",
       "      <td>1656.7</td>\n",
       "    </tr>\n",
       "    <tr>\n",
       "      <th>1</th>\n",
       "      <td>0</td>\n",
       "      <td>12</td>\n",
       "      <td>1</td>\n",
       "      <td>5</td>\n",
       "      <td>5</td>\n",
       "      <td>5</td>\n",
       "      <td>0</td>\n",
       "      <td>0</td>\n",
       "      <td>0</td>\n",
       "      <td>0</td>\n",
       "      <td>...</td>\n",
       "      <td>5</td>\n",
       "      <td>5</td>\n",
       "      <td>2</td>\n",
       "      <td>2</td>\n",
       "      <td>1</td>\n",
       "      <td>1</td>\n",
       "      <td>1</td>\n",
       "      <td>6.8</td>\n",
       "      <td>24.0</td>\n",
       "      <td>1762.0</td>\n",
       "    </tr>\n",
       "    <tr>\n",
       "      <th>2</th>\n",
       "      <td>0</td>\n",
       "      <td>15</td>\n",
       "      <td>0</td>\n",
       "      <td>7</td>\n",
       "      <td>11</td>\n",
       "      <td>4</td>\n",
       "      <td>1</td>\n",
       "      <td>1</td>\n",
       "      <td>0</td>\n",
       "      <td>0</td>\n",
       "      <td>...</td>\n",
       "      <td>11</td>\n",
       "      <td>7</td>\n",
       "      <td>14</td>\n",
       "      <td>0</td>\n",
       "      <td>0</td>\n",
       "      <td>0</td>\n",
       "      <td>0</td>\n",
       "      <td>6.8</td>\n",
       "      <td>20.3</td>\n",
       "      <td>1728.5</td>\n",
       "    </tr>\n",
       "    <tr>\n",
       "      <th>3</th>\n",
       "      <td>0</td>\n",
       "      <td>43</td>\n",
       "      <td>1</td>\n",
       "      <td>4</td>\n",
       "      <td>5</td>\n",
       "      <td>5</td>\n",
       "      <td>1</td>\n",
       "      <td>0</td>\n",
       "      <td>1</td>\n",
       "      <td>0</td>\n",
       "      <td>...</td>\n",
       "      <td>5</td>\n",
       "      <td>4</td>\n",
       "      <td>10</td>\n",
       "      <td>0</td>\n",
       "      <td>0</td>\n",
       "      <td>0</td>\n",
       "      <td>0</td>\n",
       "      <td>7.0</td>\n",
       "      <td>23.5</td>\n",
       "      <td>1647.8</td>\n",
       "    </tr>\n",
       "    <tr>\n",
       "      <th>4</th>\n",
       "      <td>0</td>\n",
       "      <td>75</td>\n",
       "      <td>4</td>\n",
       "      <td>6</td>\n",
       "      <td>6</td>\n",
       "      <td>6</td>\n",
       "      <td>0</td>\n",
       "      <td>0</td>\n",
       "      <td>0</td>\n",
       "      <td>0</td>\n",
       "      <td>...</td>\n",
       "      <td>6</td>\n",
       "      <td>6</td>\n",
       "      <td>7</td>\n",
       "      <td>1</td>\n",
       "      <td>1</td>\n",
       "      <td>0</td>\n",
       "      <td>0</td>\n",
       "      <td>7.0</td>\n",
       "      <td>22.5</td>\n",
       "      <td>1740.4</td>\n",
       "    </tr>\n",
       "  </tbody>\n",
       "</table>\n",
       "<p>5 rows × 28 columns</p>\n",
       "</div>"
      ],
      "text/plain": [
       "   blueWins  blueWardsPlaced  blueWardsDestroyed  blueKills  blueDeaths  \\\n",
       "0         0               28                   2          9           6   \n",
       "1         0               12                   1          5           5   \n",
       "2         0               15                   0          7          11   \n",
       "3         0               43                   1          4           5   \n",
       "4         0               75                   4          6           6   \n",
       "\n",
       "   blueAssists  blueEliteMonsters  blueDragons  blueHeralds  \\\n",
       "0           11                  0            0            0   \n",
       "1            5                  0            0            0   \n",
       "2            4                  1            1            0   \n",
       "3            5                  1            0            1   \n",
       "4            6                  0            0            0   \n",
       "\n",
       "   blueTowersDestroyed  ...  redKills  redDeaths  redAssists  \\\n",
       "0                    0  ...         6          9           8   \n",
       "1                    0  ...         5          5           2   \n",
       "2                    0  ...        11          7          14   \n",
       "3                    0  ...         5          4          10   \n",
       "4                    0  ...         6          6           7   \n",
       "\n",
       "   redEliteMonsters  redDragons  redHeralds  redTowersDestroyed  redAvgLevel  \\\n",
       "0                 0           0           0                   0          6.8   \n",
       "1                 2           1           1                   1          6.8   \n",
       "2                 0           0           0                   0          6.8   \n",
       "3                 0           0           0                   0          7.0   \n",
       "4                 1           1           0                   0          7.0   \n",
       "\n",
       "   redCSPerMin  redGoldPerMin  \n",
       "0         19.7         1656.7  \n",
       "1         24.0         1762.0  \n",
       "2         20.3         1728.5  \n",
       "3         23.5         1647.8  \n",
       "4         22.5         1740.4  \n",
       "\n",
       "[5 rows x 28 columns]"
      ]
     },
     "execution_count": 6,
     "metadata": {},
     "output_type": "execute_result"
    }
   ],
   "source": [
    "modelling_df.head()"
   ]
  },
  {
   "cell_type": "code",
   "execution_count": 7,
   "metadata": {
    "id": "t7yJh9LGJerc"
   },
   "outputs": [],
   "source": [
    "## Determining correlation between various game statistics\n",
    "corr_all = modelling_df.corr()"
   ]
  },
  {
   "cell_type": "code",
   "execution_count": 8,
   "metadata": {
    "colab": {
     "base_uri": "https://localhost:8080/",
     "height": 655
    },
    "id": "PWcdBdzrJhpp",
    "outputId": "5e1a9c57-2bda-4d64-d58b-7ab61790cf20"
   },
   "outputs": [
    {
     "data": {
      "text/plain": [
       "<AxesSubplot:>"
      ]
     },
     "execution_count": 8,
     "metadata": {},
     "output_type": "execute_result"
    },
    {
     "data": {
      "image/png": "[encoded data removed]",
      "text/plain": [
       "<Figure size 792x648 with 2 Axes>"
      ]
     },
     "metadata": {
      "needs_background": "light"
     },
     "output_type": "display_data"
    }
   ],
   "source": [
    "f, ax = plt.subplots(figsize = (11, 9))\n",
    "mask = np.zeros_like(corr_all, dtype = bool)\n",
    "mask[np.triu_indices_from(mask)] = True\n",
    "sns.heatmap(corr_all, cmap=\"Reds\", mask=mask)"
   ]
  },
  {
   "cell_type": "markdown",
   "metadata": {
    "id": "ZQnhLR4L4RMt"
   },
   "source": [
    "## Implementing Logistic Regression"
   ]
  },
  {
   "cell_type": "code",
   "execution_count": 9,
   "metadata": {
    "id": "D3mkWhNQ4UTe"
   },
   "outputs": [],
   "source": [
    "X = modelling_df[required_columns[1:]]\n",
    "Y = modelling_df['blueWins']"
   ]
  },
  {
   "cell_type": "code",
   "execution_count": 10,
   "metadata": {
    "id": "TYzURufX4jQd"
   },
   "outputs": [],
   "source": [
    "X_train, X_test, y_train, y_test = train_test_split(X, Y, test_size=0.33, random_state=42)"
   ]
  },
  {
   "cell_type": "code",
   "execution_count": 11,
   "metadata": {
    "id": "d8p4fB038HaH"
   },
   "outputs": [],
   "source": [
    "pipe = Pipeline([\n",
    "    ('normalizer', StandardScaler()), #Step1 - normalize data\n",
    "    ('clf', LogisticRegression()) #step2 - classifier\n",
    "])"
   ]
  },
  {
   "cell_type": "code",
   "execution_count": 12,
   "metadata": {
    "id": "mjW8q6r9U9A-"
   },
   "outputs": [],
   "source": [
    "scoring = ['precision', 'recall', 'f1', 'accuracy']"
   ]
  },
  {
   "cell_type": "code",
   "execution_count": 13,
   "metadata": {
    "colab": {
     "base_uri": "https://localhost:8080/"
    },
    "id": "MeXZ50Q2OtJG",
    "outputId": "cd566e66-c332-4114-9643-0852c132975e"
   },
   "outputs": [
    {
     "data": {
      "text/plain": [
       "{'fit_time': array([0.08642769, 0.03700447, 0.03100228, 0.04000163, 0.03700089,\n",
       "        0.03400087, 0.03800392, 0.04100084, 0.0410006 , 0.03899908]),\n",
       " 'score_time': array([0.01100159, 0.00599837, 0.00499845, 0.00699902, 0.00600147,\n",
       "        0.00499582, 0.00499773, 0.00699806, 0.0070014 , 0.00499678]),\n",
       " 'test_precision': array([0.6991404 , 0.75496689, 0.71686747, 0.71299094, 0.76035503,\n",
       "        0.71976401, 0.75316456, 0.7327044 , 0.73511905, 0.73734177]),\n",
       " 'test_recall': array([0.73939394, 0.69090909, 0.72121212, 0.71732523, 0.78115502,\n",
       "        0.74164134, 0.72340426, 0.70820669, 0.75075988, 0.70820669]),\n",
       " 'test_f1': array([0.71870398, 0.72151899, 0.71903323, 0.71515152, 0.77061469,\n",
       "        0.73053892, 0.7379845 , 0.7202473 , 0.74285714, 0.72248062]),\n",
       " 'test_accuracy': array([0.71148036, 0.73413897, 0.71903323, 0.71601208, 0.76888218,\n",
       "        0.72809668, 0.74471299, 0.7265861 , 0.74130106, 0.72919818])}"
      ]
     },
     "execution_count": 13,
     "metadata": {},
     "output_type": "execute_result"
    }
   ],
   "source": [
    "## Using a 10 fold cross validation set to train the model\n",
    "scores = cross_validate(pipe, X_train, y_train, cv=10, scoring=scoring)\n",
    "scores"
   ]
  },
  {
   "cell_type": "code",
   "execution_count": 14,
   "metadata": {
    "colab": {
     "base_uri": "https://localhost:8080/"
    },
    "id": "-uQuGKhh8UMP",
    "outputId": "fc0bdaca-a643-42e3-ed5b-0d1e3e83af53"
   },
   "outputs": [
    {
     "data": {
      "text/plain": [
       "0.7299130880711852"
      ]
     },
     "execution_count": 14,
     "metadata": {},
     "output_type": "execute_result"
    }
   ],
   "source": [
    "## F1 score of the Logistic Regression on 10 folds CV\n",
    "scores['test_f1'].mean()"
   ]
  },
  {
   "cell_type": "markdown",
   "metadata": {
    "id": "3iKrzdSzNFCL"
   },
   "source": [
    "## Nested Models"
   ]
  },
  {
   "cell_type": "code",
   "execution_count": 15,
   "metadata": {
    "id": "wXXjfyEaPH5L"
   },
   "outputs": [],
   "source": [
    "clfs = []\n",
    "clfs.append(LogisticRegression())\n",
    "clfs.append(SVC())\n",
    "clfs.append(KNeighborsClassifier(n_neighbors=5))\n",
    "clfs.append(DecisionTreeClassifier())\n",
    "clfs.append(RandomForestClassifier())\n",
    "clfs.append(GradientBoostingClassifier())"
   ]
  },
  {
   "cell_type": "code",
   "execution_count": 16,
   "metadata": {
    "colab": {
     "base_uri": "https://localhost:8080/"
    },
    "id": "47Ta3JqGPUID",
    "outputId": "8470bc3b-659f-4122-9da5-25992893d97a"
   },
   "outputs": [
    {
     "name": "stdout",
     "output_type": "stream",
     "text": [
      "---------------------------------\n",
      "LogisticRegression()\n",
      "-----------------------------------\n",
      "fit_time  mean  0.04\n",
      "fit_time  std  0.0\n",
      "score_time  mean  0.01\n",
      "score_time  std  0.0\n",
      "test_precision  mean  0.73\n",
      "test_precision  std  0.02\n",
      "test_recall  mean  0.73\n",
      "test_recall  std  0.02\n",
      "test_f1  mean  0.73\n",
      "test_f1  std  0.02\n",
      "test_accuracy  mean  0.73\n",
      "test_accuracy  std  0.02\n",
      "---------------------------------\n",
      "SVC()\n",
      "-----------------------------------\n",
      "fit_time  mean  2.25\n",
      "fit_time  std  0.13\n",
      "score_time  mean  0.37\n",
      "score_time  std  0.07\n",
      "test_precision  mean  0.73\n",
      "test_precision  std  0.02\n",
      "test_recall  mean  0.72\n",
      "test_recall  std  0.02\n",
      "test_f1  mean  0.72\n",
      "test_f1  std  0.01\n",
      "test_accuracy  mean  0.73\n",
      "test_accuracy  std  0.01\n",
      "---------------------------------\n",
      "KNeighborsClassifier()\n",
      "-----------------------------------\n",
      "fit_time  mean  0.01\n",
      "fit_time  std  0.0\n",
      "score_time  mean  0.13\n",
      "score_time  std  0.01\n",
      "test_precision  mean  0.67\n",
      "test_precision  std  0.03\n",
      "test_recall  mean  0.67\n",
      "test_recall  std  0.03\n",
      "test_f1  mean  0.67\n",
      "test_f1  std  0.03\n",
      "test_accuracy  mean  0.67\n",
      "test_accuracy  std  0.03\n",
      "---------------------------------\n",
      "DecisionTreeClassifier()\n",
      "-----------------------------------\n",
      "fit_time  mean  0.09\n",
      "fit_time  std  0.01\n",
      "score_time  mean  0.01\n",
      "score_time  std  0.0\n",
      "test_precision  mean  0.63\n",
      "test_precision  std  0.01\n",
      "test_recall  mean  0.62\n",
      "test_recall  std  0.02\n",
      "test_f1  mean  0.62\n",
      "test_f1  std  0.01\n",
      "test_accuracy  mean  0.63\n",
      "test_accuracy  std  0.01\n",
      "---------------------------------\n",
      "RandomForestClassifier()\n",
      "-----------------------------------\n",
      "fit_time  mean  1.29\n",
      "fit_time  std  0.11\n",
      "score_time  mean  0.04\n",
      "score_time  std  0.02\n",
      "test_precision  mean  0.73\n",
      "test_precision  std  0.01\n",
      "test_recall  mean  0.72\n",
      "test_recall  std  0.02\n",
      "test_f1  mean  0.72\n",
      "test_f1  std  0.01\n",
      "test_accuracy  mean  0.73\n",
      "test_accuracy  std  0.01\n",
      "---------------------------------\n",
      "GradientBoostingClassifier()\n",
      "-----------------------------------\n",
      "fit_time  mean  1.93\n",
      "fit_time  std  0.06\n",
      "score_time  mean  0.01\n",
      "score_time  std  0.0\n",
      "test_precision  mean  0.73\n",
      "test_precision  std  0.02\n",
      "test_recall  mean  0.72\n",
      "test_recall  std  0.02\n",
      "test_f1  mean  0.72\n",
      "test_f1  std  0.01\n",
      "test_accuracy  mean  0.72\n",
      "test_accuracy  std  0.01\n"
     ]
    }
   ],
   "source": [
    "for classifier in clfs:\n",
    "    pipe.set_params(clf = classifier)\n",
    "    scores = cross_validate(pipe, X_train, y_train, cv = 10, scoring=scoring)\n",
    "    print('---------------------------------')\n",
    "    print(str(classifier))\n",
    "    print('-----------------------------------')\n",
    "    for key, values in scores.items():\n",
    "            print(key,' mean ', round(values.mean(),2))\n",
    "            print(key,' std ', round(values.std(),2))"
   ]
  },
  {
   "cell_type": "markdown",
   "metadata": {
    "id": "YankWEQuV5xw"
   },
   "source": [
    "Logistic Regression, Support Vector and XGBoost performed better than others"
   ]
  },
  {
   "cell_type": "markdown",
   "metadata": {
    "id": "FkDZKvhZW3wV"
   },
   "source": [
    "## Next Steps\n",
    "- Explore Model on PCA set from the 102_eda\n",
    "- Hyper parameter tuning\n",
    "- Extra Feature Engineering\n",
    "- Deploy advanced models e.g LSTM, Neural Networks"
   ]
  }
 ],
 "metadata": {
  "colab": {
   "collapsed_sections": [],
   "name": "200_model_development.ipynb",
   "provenance": []
  },
  "kernelspec": {
   "display_name": "Python 3 (ipykernel)",
   "language": "python",
   "name": "python3"
  },
  "language_info": {
   "codemirror_mode": {
    "name": "ipython",
    "version": 3
   },
   "file_extension": ".py",
   "mimetype": "text/x-python",
   "name": "python",
   "nbconvert_exporter": "python",
   "pygments_lexer": "ipython3",
   "version": "3.7.11"
  }
 },
 "nbformat": 4,
 "nbformat_minor": 1
}
